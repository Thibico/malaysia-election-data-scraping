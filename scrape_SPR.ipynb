{
 "cells": [
  {
   "cell_type": "code",
   "execution_count": null,
   "metadata": {},
   "outputs": [],
   "source": [
    "from selenium import webdriver\n",
    "\n",
    "from selenium.webdriver.support.ui import Select\n",
    "from selenium.webdriver.common.by import By\n",
    "\n",
    "from time import sleep\n",
    "import pandas as pd\n",
    "\n",
    "import os\n",
    "import glob"
   ]
  },
  {
   "cell_type": "code",
   "execution_count": null,
   "metadata": {},
   "outputs": [],
   "source": [
    "DRIVER_PATH = '/Applications/chromedriver'\n",
    "SPR_PORTAL_URL = 'https://mysprsemak.spr.gov.my/semakan/calon/'"
   ]
  },
  {
   "cell_type": "markdown",
   "metadata": {},
   "source": [
    "## Utilities to get browser running"
   ]
  },
  {
   "cell_type": "code",
   "execution_count": null,
   "metadata": {},
   "outputs": [],
   "source": [
    "def is_browser_alive(driver):\n",
    "   try:\n",
    "      driver.current_url\n",
    "      # or driver.title\n",
    "      return True\n",
    "   except:\n",
    "      return False"
   ]
  },
  {
   "cell_type": "code",
   "execution_count": null,
   "metadata": {},
   "outputs": [],
   "source": [
    "def get_new_driver(binary_path,initial_url):\n",
    "  driver = webdriver.Chrome(executable_path=binary_path)\n",
    "  driver.get(initial_url)\n",
    "  return driver\n"
   ]
  },
  {
   "cell_type": "code",
   "execution_count": null,
   "metadata": {},
   "outputs": [],
   "source": [
    "driver = ''\n",
    "if is_browser_alive(driver) == False:\n",
    "  driver = get_new_driver(DRIVER_PATH,SPR_PORTAL_URL)"
   ]
  },
  {
   "cell_type": "markdown",
   "metadata": {},
   "source": [
    "## Functions to interact with DOM elements"
   ]
  },
  {
   "cell_type": "code",
   "execution_count": null,
   "metadata": {},
   "outputs": [],
   "source": [
    "def get_to_state_combo_listing():\n",
    "  sleep(3)\n",
    "  button = driver.find_element(\"xpath\",\"/html/body/div[1]/main/form[1]/button\")\n",
    "  button.click()"
   ]
  },
  {
   "cell_type": "code",
   "execution_count": null,
   "metadata": {},
   "outputs": [],
   "source": [
    "def select_state_from_combobox_and_get_seats(index,parliament_type):\n",
    "  combobox = Select(driver.find_element(By.ID,'negeri'))\n",
    "  combobox.select_by_index(index)\n",
    "  state = driver.find_element(\"id\",\"select2-negeri-container\").text\n",
    "  list_class = \"parlimen-content\" if parliament_type == 'parliament' else \"dun-content\"\n",
    "  sleep(5)\n",
    "  if parliament_type != 'parliament':\n",
    "    dun_tab_button = driver.find_element(By.ID,\"dun-tab\")\n",
    "    dun_tab_button.click()\n",
    "    sleep(5)\n",
    "\n",
    "  seats_list = driver.find_elements(By.CLASS_NAME,list_class)\n",
    "  print(\"number of seats in \" + state + \":\" + str(len(seats_list)))\n",
    "  return state,seats_list"
   ]
  },
  {
   "cell_type": "code",
   "execution_count": null,
   "metadata": {},
   "outputs": [],
   "source": [
    "def get_list_of_candidates(seat):\n",
    "  print(\"Getting candidates for \"+seat.text)\n",
    "  seat.click()\n",
    "  sleep(4)\n",
    "  candidates = driver.find_element(\"id\",\"nama-calon\").find_elements(By.CLASS_NAME,\"col-span-4\")\n",
    "  #print(candidates)\n",
    "  return [candidate.text for candidate in candidates]"
   ]
  },
  {
   "cell_type": "code",
   "execution_count": null,
   "metadata": {},
   "outputs": [],
   "source": [
    "def build_dict_for_candidate(parliament_type,state,seat_name,seat_id,parliament_code,candidate_info):\n",
    "\n",
    "  return_dict = {\n",
    "    'parliament_type': parliament_type,\n",
    "    'state': state,\n",
    "    'seat_name': seat_name,\n",
    "    'seat_id': seat_id,\n",
    "    'parliament_code': parliament_code,\n",
    "  }\n",
    "\n",
    "  index,name,party = [text.strip() for text in candidate_info.split('\\n')]\n",
    "\n",
    "  return_dict['name'] = name\n",
    "  return_dict['party'] = party\n",
    "\n",
    "  return return_dict\n"
   ]
  },
  {
   "cell_type": "markdown",
   "metadata": {},
   "source": [
    "## Start scraping"
   ]
  },
  {
   "cell_type": "code",
   "execution_count": null,
   "metadata": {},
   "outputs": [],
   "source": [
    "get_to_state_combo_listing()\n"
   ]
  },
  {
   "cell_type": "code",
   "execution_count": null,
   "metadata": {},
   "outputs": [],
   "source": [
    "def scrape_seats_for_states(start_index,end_index,parliament_type):\n",
    "   candidates = []\n",
    "   errors = []\n",
    "   for index in range(start_index,end_index):\n",
    "      print(index)\n",
    "      sleep(5)\n",
    "      state,seats_list = select_state_from_combobox_and_get_seats(index,parliament_type)\n",
    "      print(state)\n",
    "      for i, seat in enumerate(seats_list):\n",
    "         sleep(1)\n",
    "\n",
    "         try:\n",
    "         \n",
    "            print(\"Seat index \" + str(i) + \" \" + seat.text)\n",
    "            parliament_code,seat_name = [text.strip() for text in seat.text.split('\\n')]\n",
    "            seat_id = seat.get_attribute(\"id\")\n",
    "            new_candidates = [\n",
    "               build_dict_for_candidate(\n",
    "                  parliament_type,\n",
    "                  state,\n",
    "                  seat_name,\n",
    "                  seat_id,\n",
    "                  parliament_code,\n",
    "                  candidate\n",
    "               ) \n",
    "               for candidate in get_list_of_candidates(seat)\n",
    "            ]\n",
    "            #print(new_candidates)\n",
    "            \n",
    "            candidates.extend(new_candidates)\n",
    "            \n",
    "         except:\n",
    "            print(\"Error occured while scraping \" + str(seat.text))\n",
    "            errors.append(seat.text)\n",
    "      \n",
    "   return errors, candidates"
   ]
  },
  {
   "cell_type": "markdown",
   "metadata": {},
   "source": [
    "## Scrape parliament seats"
   ]
  },
  {
   "cell_type": "code",
   "execution_count": null,
   "metadata": {},
   "outputs": [],
   "source": [
    "# errors_1_6, candidates_list_1_6 = scrape_seats_for_states(1,6,'parliament')\n",
    "# errors_6_10, candidates_list_6_10 = scrape_seats_for_states(6,10,'parliament')\n",
    "# errors_10_15, candidates_list_10_15 = scrape_seats_for_states(10,15,'parliament')\n",
    "# errors_15_17, candidates_list_15_17 = scrape_seats_for_states(15,17,'parliament')"
   ]
  },
  {
   "cell_type": "code",
   "execution_count": null,
   "metadata": {},
   "outputs": [],
   "source": [
    "# candidates_list_df_1_to_6 = pd.DataFrame(candidates_list_1_6)\n",
    "# candidates_list_df_6_to_10 = pd.DataFrame(candidates_list_6_10)\n",
    "# candidates_list_df_10_to_15 = pd.DataFrame(candidates_list_10_15)\n",
    "# candidates_list_df_15_to_17 = pd.DataFrame(candidates_list_15_17)"
   ]
  },
  {
   "cell_type": "code",
   "execution_count": null,
   "metadata": {},
   "outputs": [],
   "source": [
    "# candidates_list_df_1_to_6.to_csv('data/raw/spr/ge15/candidates_list_1_to_6.csv')\n",
    "# candidates_list_df_6_to_10.to_csv('data/raw/spr/ge15/candidates_list_6_to_10.csv')\n",
    "# candidates_list_df_10_to_15.to_csv('data/raw/spr/ge15/candidates_list_10_to_15.csv')\n",
    "# candidates_list_df_15_to_17.to_csv('data/raw/spr/ge15/candidates_list_15_to_17.csv')\n",
    "\n",
    "# errors\n",
    "# ['P.100\\nPANDAN', 'P.103\\nPUCHONG']"
   ]
  },
  {
   "cell_type": "code",
   "execution_count": null,
   "metadata": {},
   "outputs": [],
   "source": [
    "# errors_15_17"
   ]
  },
  {
   "cell_type": "markdown",
   "metadata": {},
   "source": [
    "## Scrape state seats"
   ]
  },
  {
   "cell_type": "code",
   "execution_count": null,
   "metadata": {},
   "outputs": [],
   "source": [
    "#errors_states_1_6, candidates_list_states_1_6 = scrape_seats_for_states(1,6,'states')\n",
    "# errors_states_6_17, candidates_list_states_6_17 = scrape_seats_for_states(6,17,'states')"
   ]
  },
  {
   "cell_type": "code",
   "execution_count": null,
   "metadata": {},
   "outputs": [],
   "source": [
    "# candidates_list_states_df_1_6 = pd.DataFrame(candidates_list_states_1_6)\n",
    "# candidates_list_states_df_6_17 = pd.DataFrame(candidates_list_states_6_17)"
   ]
  },
  {
   "cell_type": "code",
   "execution_count": null,
   "metadata": {},
   "outputs": [],
   "source": [
    "# candidates_list_states_df_1_6.to_csv('data/raw/spr/ge15/candidates_list_states_1_to_6.csv')\n",
    "# candidates_list_states_df_6_17.to_csv('data/raw/spr/ge15/candidates_list_states_6_to_17.csv')\n",
    "\n",
    "# errors\n",
    "# none\n"
   ]
  },
  {
   "cell_type": "markdown",
   "metadata": {},
   "source": [
    "## Combine all results"
   ]
  },
  {
   "cell_type": "code",
   "execution_count": null,
   "metadata": {},
   "outputs": [],
   "source": [
    "csvs_list = glob.glob(os.path.join(os.path.dirname(\"__file__\"),'data/raw/spr/ge15/*'))"
   ]
  },
  {
   "cell_type": "code",
   "execution_count": null,
   "metadata": {},
   "outputs": [],
   "source": [
    "def append_all(paths):\n",
    "    '''\n",
    "    Append CSVs into a dataframe.\n",
    "    '''\n",
    "    \n",
    "    li = []\n",
    "\n",
    "    for filename in paths:\n",
    "        df = pd.read_csv(filename, index_col=None, header=0)\n",
    "        li.append(df.reset_index(drop=True))\n",
    "\n",
    "    df = pd.concat(li, axis=0, ignore_index=True)\n",
    "    df.drop(columns=[\"Unnamed: 0\"],inplace=True) \n",
    "    df.sort_values(by=[\"parliament_type\",\"parliament_code\"],inplace=True)\n",
    "    return df.reset_index(drop=True)"
   ]
  },
  {
   "cell_type": "code",
   "execution_count": null,
   "metadata": {},
   "outputs": [],
   "source": [
    "ge15_combined_candidates_df = append_all(csvs_list)"
   ]
  },
  {
   "cell_type": "code",
   "execution_count": null,
   "metadata": {},
   "outputs": [],
   "source": [
    "ge15_combined_candidates_df"
   ]
  },
  {
   "cell_type": "code",
   "execution_count": null,
   "metadata": {},
   "outputs": [],
   "source": [
    "ge15_combined_candidates_df.to_csv('data/cleaned/spr/ge15/ge15_combined_candidates.csv')"
   ]
  },
  {
   "cell_type": "code",
   "execution_count": null,
   "metadata": {},
   "outputs": [],
   "source": []
  }
 ],
 "metadata": {
  "kernelspec": {
   "display_name": "Python 3.8.1 64-bit",
   "language": "python",
   "name": "python3"
  },
  "language_info": {
   "codemirror_mode": {
    "name": "ipython",
    "version": 3
   },
   "file_extension": ".py",
   "mimetype": "text/x-python",
   "name": "python",
   "nbconvert_exporter": "python",
   "pygments_lexer": "ipython3",
   "version": "3.8.1"
  },
  "orig_nbformat": 4,
  "vscode": {
   "interpreter": {
    "hash": "aee8b7b246df8f9039afb4144a1f6fd8d2ca17a180786b69acc140d282b71a49"
   }
  }
 },
 "nbformat": 4,
 "nbformat_minor": 2
}
