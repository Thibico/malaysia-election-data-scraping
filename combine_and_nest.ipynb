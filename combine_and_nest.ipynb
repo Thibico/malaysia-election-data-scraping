{
 "cells": [
  {
   "cell_type": "code",
   "execution_count": 1,
   "metadata": {},
   "outputs": [],
   "source": [
    "import pandas as pd\n",
    "import os\n",
    "import glob\n",
    "import re\n",
    "import json"
   ]
  },
  {
   "cell_type": "code",
   "execution_count": 2,
   "metadata": {},
   "outputs": [],
   "source": [
    "def write_json(data_dict,filename,data_write_path):\n",
    "    '''\n",
    "    Write JSON file into designated raw data folder.\n",
    "    '''\n",
    "    \n",
    "    # Serializing json\n",
    "    json_object = json.dumps(data_dict, indent=4)\n",
    "\n",
    "    # Writing to .json\n",
    "    with open(data_write_path + filename, \"w\") as outfile:\n",
    "        outfile.write(json_object)"
   ]
  },
  {
   "cell_type": "code",
   "execution_count": 3,
   "metadata": {},
   "outputs": [],
   "source": [
    "combined_df = pd.read_csv('./data/cleaned/combined/combined_results_parliament.csv', converters = {'parliament_code_digits': str})\n",
    "combined_df.fillna('',inplace=True)"
   ]
  },
  {
   "cell_type": "code",
   "execution_count": 4,
   "metadata": {},
   "outputs": [],
   "source": [
    "combined_df_year_district = combined_df.set_index(['year','parliament_code_digits'])"
   ]
  },
  {
   "cell_type": "code",
   "execution_count": 5,
   "metadata": {},
   "outputs": [],
   "source": [
    "year_district_pairs = combined_df_year_district.index.unique().to_list()"
   ]
  },
  {
   "cell_type": "code",
   "execution_count": 6,
   "metadata": {},
   "outputs": [],
   "source": [
    "nested_year_district = {}"
   ]
  },
  {
   "cell_type": "code",
   "execution_count": 7,
   "metadata": {},
   "outputs": [
    {
     "name": "stderr",
     "output_type": "stream",
     "text": [
      "/Library/Frameworks/Python.framework/Versions/3.8/lib/python3.8/site-packages/pandas/core/indexing.py:1761: PerformanceWarning: indexing past lexsort depth may impact performance.\n",
      "  return self._getitem_tuple(key)\n"
     ]
    }
   ],
   "source": [
    "for year_district in year_district_pairs:\n",
    "\n",
    "  [year,district] = year_district\n",
    "  \n",
    "  if year not in nested_year_district:\n",
    "    nested_year_district[year] = {}\n",
    "  \n",
    "  nested_year_district[year][district] = {}\n",
    "\n",
    "  district_columns = ['total_votes','constituency','state']\n",
    "\n",
    "  result_columns = ['name','party_code','coalition','votes','vote_share','winner']\n",
    "\n",
    "  nested_year_district[year][district]['info'] = combined_df_year_district.loc[(year,district),:][district_columns].to_dict('records')[0]\n",
    "\n",
    "  nested_year_district[year][district]['results'] = combined_df_year_district.loc[(year,district),:][result_columns].to_dict('records')\n",
    "\n",
    "  winner = [row for row in nested_year_district[year][district]['results'] if row['winner'] == 1][0]\n",
    "\n",
    "  nested_year_district[year][district]['winner'] = winner\n",
    "\n",
    "    "
   ]
  },
  {
   "cell_type": "code",
   "execution_count": 8,
   "metadata": {},
   "outputs": [
    {
     "data": {
      "text/plain": [
       "{'info': {'total_votes': 32448, 'constituency': 'KANGAR', 'state': 'Perlis'},\n",
       " 'results': [{'name': 'DATUK RADZI SHEIKH AHMAD',\n",
       "   'party_code': 'UMNO',\n",
       "   'coalition': 'BN',\n",
       "   'votes': 22498,\n",
       "   'vote_share': 69.33555226824457,\n",
       "   'winner': 1},\n",
       "  {'name': 'ISHAR SAAD',\n",
       "   'party_code': 'PAS',\n",
       "   'coalition': 'BA',\n",
       "   'votes': 9950,\n",
       "   'vote_share': 30.664447731755423,\n",
       "   'winner': 0}],\n",
       " 'winner': {'name': 'DATUK RADZI SHEIKH AHMAD',\n",
       "  'party_code': 'UMNO',\n",
       "  'coalition': 'BN',\n",
       "  'votes': 22498,\n",
       "  'vote_share': 69.33555226824457,\n",
       "  'winner': 1}}"
      ]
     },
     "execution_count": 8,
     "metadata": {},
     "output_type": "execute_result"
    }
   ],
   "source": [
    "nested_year_district[2004]['002']"
   ]
  },
  {
   "cell_type": "code",
   "execution_count": 9,
   "metadata": {},
   "outputs": [],
   "source": [
    "write_json(nested_year_district,'nested_results_parliament.json','./data/cleaned/combined/')"
   ]
  },
  {
   "cell_type": "code",
   "execution_count": null,
   "metadata": {},
   "outputs": [],
   "source": []
  }
 ],
 "metadata": {
  "kernelspec": {
   "display_name": "Python 3.8.1 64-bit",
   "language": "python",
   "name": "python3"
  },
  "language_info": {
   "codemirror_mode": {
    "name": "ipython",
    "version": 3
   },
   "file_extension": ".py",
   "mimetype": "text/x-python",
   "name": "python",
   "nbconvert_exporter": "python",
   "pygments_lexer": "ipython3",
   "version": "3.8.1"
  },
  "vscode": {
   "interpreter": {
    "hash": "aee8b7b246df8f9039afb4144a1f6fd8d2ca17a180786b69acc140d282b71a49"
   }
  }
 },
 "nbformat": 4,
 "nbformat_minor": 4
}
