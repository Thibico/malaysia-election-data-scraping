{
 "cells": [
  {
   "cell_type": "code",
   "execution_count": 1,
   "id": "b2fecb5d-9fc1-46ee-a56b-a9fecd93ac77",
   "metadata": {},
   "outputs": [],
   "source": [
    "import json"
   ]
  },
  {
   "cell_type": "code",
   "execution_count": 2,
   "id": "ad3a2546-d02a-476f-a5bf-d867e075732c",
   "metadata": {},
   "outputs": [],
   "source": [
    "import os"
   ]
  },
  {
   "cell_type": "code",
   "execution_count": 3,
   "id": "f86505fb-d7b4-4fca-a1ac-f1be761fc128",
   "metadata": {},
   "outputs": [],
   "source": [
    "import requests"
   ]
  },
  {
   "cell_type": "code",
   "execution_count": 5,
   "id": "5afec01f-4460-41fe-9b96-a3b6a6662671",
   "metadata": {},
   "outputs": [],
   "source": [
    "from requests.adapters import HTTPAdapter"
   ]
  },
  {
   "cell_type": "code",
   "execution_count": 7,
   "id": "f2c34a0e-ef3a-4e31-99e7-fc4e9301bf08",
   "metadata": {},
   "outputs": [],
   "source": [
    "from requests.packages.urllib3.util.retry import Retry"
   ]
  },
  {
   "cell_type": "code",
   "execution_count": 8,
   "id": "6aef59cb-f89f-47a1-b913-267da3c74e7b",
   "metadata": {},
   "outputs": [],
   "source": [
    "import urllib3"
   ]
  },
  {
   "cell_type": "code",
   "execution_count": 9,
   "id": "065aff8b-adff-4fbc-917f-4816c7483aca",
   "metadata": {},
   "outputs": [],
   "source": [
    "urllib3.disable_warnings(urllib3.exceptions.InsecureRequestWarning)"
   ]
  },
  {
   "cell_type": "code",
   "execution_count": 10,
   "id": "bea2633d-975b-4b42-8902-7cbe771d6047",
   "metadata": {},
   "outputs": [],
   "source": [
    "api_base_url = \"https://dashboard.spr.gov.my/api/v1\""
   ]
  },
  {
   "cell_type": "code",
   "execution_count": 13,
   "id": "a4e5c55f-87ba-4c0a-846d-29ca3380e24c",
   "metadata": {},
   "outputs": [],
   "source": [
    "candidates = [\"2023-01\", \"2023-02\", \"2023-03\", \"2023-04\", \"2023-05\", \"2023-06\"]"
   ]
  },
  {
   "cell_type": "code",
   "execution_count": 14,
   "id": "845eb0cf-b8be-473d-9be7-09fe87628fe5",
   "metadata": {},
   "outputs": [],
   "source": [
    "ddpr_list = [\"2023-02\", \"2023-03\", \"2023-04\", \"2023-05\", \"2023-06\", \"2023-07\"]"
   ]
  },
  {
   "cell_type": "code",
   "execution_count": null,
   "id": "b93936a3-2b58-40c6-82e0-4211e8382697",
   "metadata": {},
   "outputs": [],
   "source": []
  }
 ],
 "metadata": {
  "kernelspec": {
   "display_name": "Python 3 (ipykernel)",
   "language": "python",
   "name": "python3"
  },
  "language_info": {
   "codemirror_mode": {
    "name": "ipython",
    "version": 3
   },
   "file_extension": ".py",
   "mimetype": "text/x-python",
   "name": "python",
   "nbconvert_exporter": "python",
   "pygments_lexer": "ipython3",
   "version": "3.11.3"
  }
 },
 "nbformat": 4,
 "nbformat_minor": 5
}
