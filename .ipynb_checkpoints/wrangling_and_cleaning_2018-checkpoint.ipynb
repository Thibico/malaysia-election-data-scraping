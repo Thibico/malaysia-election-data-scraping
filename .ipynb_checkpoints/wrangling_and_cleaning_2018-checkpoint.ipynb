{
 "cells": [
  {
   "cell_type": "code",
   "execution_count": 1,
   "metadata": {},
   "outputs": [],
   "source": [
    "import pandas as pd\n",
    "import os\n",
    "import glob\n",
    "import re"
   ]
  },
  {
   "cell_type": "code",
   "execution_count": 2,
   "metadata": {},
   "outputs": [],
   "source": [
    "## Declare constants\n",
    "\n",
    "election_year = 2018"
   ]
  },
  {
   "cell_type": "code",
   "execution_count": 3,
   "metadata": {},
   "outputs": [],
   "source": [
    "## Get all file paths of scraped raw CSVs\n",
    "\n",
    "folders_list = glob.glob(os.path.join(os.path.dirname(\"__file__\"),'data/*'))"
   ]
  },
  {
   "cell_type": "code",
   "execution_count": 4,
   "metadata": {},
   "outputs": [],
   "source": [
    "## Collect all the similar types of CSV files into seperate lists\n",
    "\n",
    "state_result_paths = [path for path in folders_list if \"state_result\" in path]\n",
    "parliament_result_paths = [path for path in folders_list if \"parliament_result\" in path]\n",
    "state_fact_paths = [path for path in folders_list if \"state_fact\" in path]\n",
    "parliament_fact_paths = [path for path in folders_list if \"parliament_fact\" in path]"
   ]
  },
  {
   "cell_type": "code",
   "execution_count": 3,
   "metadata": {},
   "outputs": [],
   "source": [
    "def append_all(paths):\n",
    "    '''\n",
    "    Append CSVs into a dataframe.\n",
    "    '''\n",
    "    \n",
    "    li = []\n",
    "\n",
    "    for filename in paths:\n",
    "        df = pd.read_csv(filename, index_col=None, header=0)\n",
    "        li.append(df)\n",
    "\n",
    "    df = pd.concat(li, axis=0, ignore_index=True)\n",
    "    return df"
   ]
  },
  {
   "cell_type": "code",
   "execution_count": 6,
   "metadata": {},
   "outputs": [],
   "source": [
    "def make_3_digit(num):\n",
    "    '''\n",
    "    Make int into 3 digit string with 0s as prefix\n",
    "    '''\n",
    "    \n",
    "    digits = str(num)\n",
    "    if num < 10:\n",
    "        digits = '00' + str(num)\n",
    "    elif num < 100:\n",
    "        digits = '0' + str(num)\n",
    "        \n",
    "    return digits"
   ]
  },
  {
   "cell_type": "code",
   "execution_count": 7,
   "metadata": {},
   "outputs": [],
   "source": [
    "def parse_comma_sep_num(num_string):\n",
    "    '''\n",
    "    Make number string with comma seperators into number\n",
    "    '''\n",
    "\n",
    "    if '.' in str(num_string):\n",
    "        return float(''.join(str(num_string).split(',')))\n",
    "    else:\n",
    "        return int(''.join(str(num_string).split(',')))"
   ]
  },
  {
   "cell_type": "markdown",
   "metadata": {},
   "source": [
    "## Clean Votes Data"
   ]
  },
  {
   "cell_type": "code",
   "execution_count": 8,
   "metadata": {},
   "outputs": [],
   "source": [
    "def clean_consituency_code(row):\n",
    "    '''\n",
    "    Clean the append Parliament seat code to State seat code to XXX or XXX-XXX respectively\n",
    "    '''\n",
    "    \n",
    "    ## Clean parliament/state code\n",
    "    ## e.g. P10, P201\n",
    "\n",
    "    parliament_code_int = int(row['panel_code'].replace('P','').replace('N',''))\n",
    "    parliament_code_digits = make_3_digit(parliament_code_int)\n",
    "\n",
    "    ## For state constituencies, need to append Parliament seat code to State seat code PXXX-NXXX\n",
    "\n",
    "    if 'N' in row['panel_code']:\n",
    "        p_code_regex = re.compile(r\"\\(P(?P<p_code>[0-9]+)\\)\")\n",
    "        p_code_info = p_code_regex.search(row['panel_name'])\n",
    "        p_code_groups = p_code_info.groupdict()\n",
    "        #print(row['panel_name'])\n",
    "        parliament_p_code = p_code_groups['p_code']\n",
    "        parliament_p_code_int = int(parliament_p_code)\n",
    "        parliament_p_code_digits = make_3_digit(parliament_p_code_int)\n",
    "        parliament_code_digits = parliament_p_code_digits + '-' + parliament_code_digits\n",
    "        \n",
    "    return parliament_code_digits"
   ]
  },
  {
   "cell_type": "code",
   "execution_count": 9,
   "metadata": {},
   "outputs": [],
   "source": [
    "def clean_votes(raw_df):\n",
    "    '''\n",
    "    Clean votes data\n",
    "    '''\n",
    "    \n",
    "    clean_df = pd.DataFrame(columns=['name','coalition','party_code','votes','vote_share',\n",
    "                                    'parliament_code_digits','constituency', 'state'])\n",
    "    \n",
    "    for index, row in raw_df.iterrows():\n",
    "\n",
    "        ## Clean name column \n",
    "        ## e.g. Mordi Bimol (PH - DAP) \n",
    "        ## e.g. Hamdan Sani (PAS)\n",
    "        name_regex = re.compile(\n",
    "            r\"(?P<candidate>[a-zA-Z @]+\\S)\\s*(?:\\(\\s*(?P<coalition>[a-zA-Z' ]+\\S)\\s*-\\s*(?P<party>[a-zA-Z' ]+)\\s*\\)|\\(\\s*(?P<party_only>[a-zA-Z' ]+\\S)\\s*\\))\"\n",
    "        )\n",
    "        name_info = name_regex.search(row['name'])\n",
    "        name_groups = name_info.groupdict()\n",
    "\n",
    "        name = name_groups['candidate']\n",
    "        coalition = name_groups['coalition'] if name_groups['coalition'] != None else ''\n",
    "        party_code = name_groups['party'] if name_groups['party'] != None else name_groups['party_only']\n",
    "        \n",
    "        ## Clean votes column\n",
    "        ## e.g. 43.1% (12,771)\n",
    "        \n",
    "        vote_regex = re.compile(r\"(?P<vote_share>[\\d.]+)%\\s\\((?P<votes>[\\d,]+)\\)\")\n",
    "        vote_info = vote_regex.search(row['number_of_voters'])\n",
    "        vote_groups = vote_info.groupdict()\n",
    "        \n",
    "        ## Star's vote share calculation shows share as a percentage of eligible voters \n",
    "        ## instead of total vote. So we will calculate it ourselves below.\n",
    "        vote_share_of_eligible_voters = vote_groups['vote_share']\n",
    "        \n",
    "        votes = parse_comma_sep_num(vote_groups['votes'])\n",
    "        \n",
    "        \n",
    "        ## Clean parliament/state code\n",
    "        ## e.g. P10, P201\n",
    "        parliament_code_digits = clean_consituency_code(row)\n",
    "        \n",
    "        ## Clean consituency name\n",
    "        constituency = row['panel_name']\n",
    "        \n",
    "        ## Clean state\n",
    "        state = row['state_region']\n",
    "        \n",
    "        #print(votes)\n",
    "        \n",
    "        \n",
    "        new_row = {'name':name, 'coalition':coalition, 'party_code':party_code, \n",
    "                  'votes':votes, 'vote_share_of_eligible_voters':vote_share_of_eligible_voters,\n",
    "                  'parliament_code_digits':parliament_code_digits,\n",
    "                  'constituency':constituency, 'state':state}\n",
    "        clean_df = clean_df.append(new_row, ignore_index=True)\n",
    "        \n",
    "\n",
    "    clean_df['votes'] = pd.to_numeric(clean_df['votes'])\n",
    "    \n",
    "    \n",
    "    ## Get winner and total votes for each constituency\n",
    "    \n",
    "    total_votes_list = clean_df.groupby([\"parliament_code_digits\"])[\"votes\"].sum().reset_index()\n",
    "    total_votes_list.rename(columns={'votes':'total_votes'},inplace=True)\n",
    "    \n",
    "    winner_list = clean_df.loc[clean_df.groupby('parliament_code_digits')['votes']\n",
    "                               .agg(lambda x: x.idxmax())][['parliament_code_digits','party_code']]\n",
    "    winner_list.rename(columns={'party_code':'winner'},inplace=True)\n",
    "    \n",
    "    clean_df_merged_with_winner = pd.merge(clean_df, winner_list, how=\"left\", on=[\"parliament_code_digits\"])\n",
    "    clean_df_merged_with_winner['winner'] = clean_df_merged_with_winner \\\n",
    "        .apply(lambda row : 1 if row['party_code'] == row['winner'] else 0, axis = 1)\n",
    "    \n",
    "    clean_df_merged_with_total = pd.merge(clean_df_merged_with_winner, total_votes_list, \n",
    "                                          how=\"left\", on=[\"parliament_code_digits\"])\n",
    "    \n",
    "    ## Star's vote share calculation shows share as a percentage of eligible voters \n",
    "    ## instead of total vote. So we will calculate it ourselves\n",
    "    clean_df_merged_with_total['vote_share'] = clean_df_merged_with_total \\\n",
    "         .apply(lambda row: 100*row['votes']/row['total_votes'] if row['total_votes'] != 0 else 0,\n",
    "                axis = 1) \n",
    "\n",
    "        \n",
    "        \n",
    "    return clean_df_merged_with_total"
   ]
  },
  {
   "cell_type": "code",
   "execution_count": 10,
   "metadata": {
    "scrolled": false
   },
   "outputs": [],
   "source": [
    "state_votes = clean_votes(append_all(state_result_paths))"
   ]
  },
  {
   "cell_type": "code",
   "execution_count": 11,
   "metadata": {
    "scrolled": false
   },
   "outputs": [],
   "source": [
    "parliament_votes = clean_votes(append_all(parliament_result_paths))"
   ]
  },
  {
   "cell_type": "code",
   "execution_count": 12,
   "metadata": {},
   "outputs": [],
   "source": [
    "state_votes.to_csv('data/cleaned/votes_'+str(election_year)+'_states.csv')"
   ]
  },
  {
   "cell_type": "code",
   "execution_count": 13,
   "metadata": {},
   "outputs": [],
   "source": [
    "parliament_votes.to_csv('data/cleaned/votes_'+str(election_year)+'_parliament.csv')"
   ]
  },
  {
   "cell_type": "markdown",
   "metadata": {},
   "source": [
    "## Clean Constituency Facts Data"
   ]
  },
  {
   "cell_type": "code",
   "execution_count": 14,
   "metadata": {},
   "outputs": [],
   "source": [
    "def clean_demographics(demo_string):\n",
    "    '''\n",
    "    Parse ethnicity percentage string and return dict of percent per ethnicity\n",
    "    '''\n",
    "    \n",
    "    individual_pairs = demo_string.split(\"; \")\n",
    "    demographics_dict = {}\n",
    "    for pair in individual_pairs:\n",
    "        demographics_regex = re.compile(r\"(?P<ethnicity>[a-zA-Z /.()]+)\\s(?P<percentage>[\\d.]+)\")\n",
    "        demographics_info = demographics_regex.search(pair)\n",
    "        demographics_groups = demographics_info.groupdict()\n",
    "        ethnicity = demographics_groups['ethnicity']\n",
    "        percentage = demographics_groups['percentage']\n",
    "        demographics_dict['ethnicity_'+ethnicity] = float(percentage)\n",
    "    return demographics_dict"
   ]
  },
  {
   "cell_type": "code",
   "execution_count": 15,
   "metadata": {},
   "outputs": [],
   "source": [
    "def clean_turnout(turnout_string):\n",
    "    '''\n",
    "    Parse turnout number and percentage\n",
    "    '''\n",
    "    \n",
    "    turnout_regex = re.compile(r\"(?P<turnout>[\\d,]+)\\s\\((?P<percentage>[\\d.]+)\\%\\)\")\n",
    "    groups_dict = turnout_regex.search(turnout_string).groupdict()\n",
    "    turnout = groups_dict['turnout']\n",
    "    percentage = groups_dict['percentage']\n",
    "    turnout = parse_comma_sep_num(turnout)\n",
    "    percentage = float(percentage)\n",
    "    return {\n",
    "        \"voter_turnout\": turnout,\n",
    "        \"voter_turnout_percentage\": percentage\n",
    "    }"
   ]
  },
  {
   "cell_type": "code",
   "execution_count": 16,
   "metadata": {},
   "outputs": [],
   "source": [
    "def clean_facts(raw_df):\n",
    "    '''\n",
    "    Clean info about each constituency\n",
    "    '''\n",
    "    \n",
    "    clean_df = pd.DataFrame(columns=['registered_voters', 'majority', 'spoilt_votes',\n",
    "       'unreturned_votes', 'voter_turnout', 'voter_turnout_percentage', 'parliament_code_digits',\n",
    "       'constituency', 'state'])\n",
    "    \n",
    "    for index, row in raw_df.iterrows():\n",
    "        row_dict = {}\n",
    "        \n",
    "        row_dict['registered_voters'] = parse_comma_sep_num(row['registered_voters'])\n",
    "        row_dict['majority'] = parse_comma_sep_num(row['majority'])\n",
    "        row_dict['spoilt_votes'] = parse_comma_sep_num(row['spoilt_votes'])\n",
    "        row_dict['unreturned_votes'] = parse_comma_sep_num(row['unreturned_votes'])\n",
    "        \n",
    "        turnout_dict = clean_turnout(row['voter_turnout'])\n",
    "        row_dict.update(turnout_dict)\n",
    "        \n",
    "        demographics_dict = clean_demographics(row['demographics'])\n",
    "        row_dict.update(demographics_dict)\n",
    "        \n",
    "        row_dict['parliament_code_digits'] = clean_consituency_code(row)\n",
    "        \n",
    "        row_dict['constituency'] = row['panel_name']\n",
    "        row_dict['state'] = row['state_region']\n",
    "        \n",
    "        clean_df = clean_df.append(row_dict, ignore_index=True)\n",
    "        clean_df.fillna(0, inplace=True)\n",
    "        \n",
    "    \n",
    "    return clean_df"
   ]
  },
  {
   "cell_type": "code",
   "execution_count": 17,
   "metadata": {},
   "outputs": [],
   "source": [
    "state_facts = clean_facts(append_all(state_fact_paths))"
   ]
  },
  {
   "cell_type": "code",
   "execution_count": 18,
   "metadata": {},
   "outputs": [],
   "source": [
    "parliament_facts = clean_facts(append_all(parliament_fact_paths))"
   ]
  },
  {
   "cell_type": "code",
   "execution_count": 19,
   "metadata": {},
   "outputs": [],
   "source": [
    "state_facts.to_csv('data/cleaned/constituency_info_'+str(election_year)+'_states.csv')"
   ]
  },
  {
   "cell_type": "code",
   "execution_count": 20,
   "metadata": {},
   "outputs": [],
   "source": [
    "parliament_facts.to_csv('data/cleaned/constituency_info_'+str(election_year)+'_parliament.csv')"
   ]
  },
  {
   "cell_type": "code",
   "execution_count": null,
   "metadata": {},
   "outputs": [],
   "source": []
  }
 ],
 "metadata": {
  "kernelspec": {
   "display_name": "Python 3",
   "language": "python",
   "name": "python3"
  },
  "language_info": {
   "codemirror_mode": {
    "name": "ipython",
    "version": 3
   },
   "file_extension": ".py",
   "mimetype": "text/x-python",
   "name": "python",
   "nbconvert_exporter": "python",
   "pygments_lexer": "ipython3",
   "version": "3.8.1"
  }
 },
 "nbformat": 4,
 "nbformat_minor": 4
}
