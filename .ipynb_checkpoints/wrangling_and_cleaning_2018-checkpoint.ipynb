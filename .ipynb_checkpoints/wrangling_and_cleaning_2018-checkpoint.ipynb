{
 "cells": [
  {
   "cell_type": "code",
   "execution_count": 1,
   "metadata": {},
   "outputs": [],
   "source": [
    "import pandas as pd\n",
    "import os\n",
    "import glob\n",
    "import re"
   ]
  },
  {
   "cell_type": "code",
   "execution_count": 2,
   "metadata": {},
   "outputs": [],
   "source": [
    "## Declare constants\n",
    "\n",
    "election_year = 2018"
   ]
  },
  {
   "cell_type": "code",
   "execution_count": 3,
   "metadata": {},
   "outputs": [],
   "source": [
    "## Get all file paths of scraped raw CSVs\n",
    "\n",
    "folders_list = glob.glob(os.path.join(os.path.dirname(\"__file__\"),'data/*'))"
   ]
  },
  {
   "cell_type": "code",
   "execution_count": 4,
   "metadata": {},
   "outputs": [],
   "source": [
    "## Collect all the similar types of CSV files into seperate lists\n",
    "\n",
    "state_result_paths = [path for path in folders_list if \"state_result\" in path]\n",
    "parliament_result_paths = [path for path in folders_list if \"parliament_result\" in path]\n",
    "state_fact_paths = [path for path in folders_list if \"state_fact\" in path]\n",
    "parliament_fact_paths = [path for path in folders_list if \"parliament_fact\" in path]"
   ]
  },
  {
   "cell_type": "code",
   "execution_count": 5,
   "metadata": {},
   "outputs": [],
   "source": [
    "## Append CSVs into a dataframe\n",
    "\n",
    "def append_all(paths):\n",
    "    \n",
    "    li = []\n",
    "\n",
    "    for filename in paths:\n",
    "        df = pd.read_csv(filename, index_col=None, header=0)\n",
    "        li.append(df)\n",
    "\n",
    "    df = pd.concat(li, axis=0, ignore_index=True)\n",
    "    return df"
   ]
  },
  {
   "cell_type": "code",
   "execution_count": 6,
   "metadata": {},
   "outputs": [],
   "source": [
    "## Make int into 3 digit string with 0s as prefix\n",
    "\n",
    "def make_3_digit(num):\n",
    "    digits = str(num)\n",
    "    if num < 10:\n",
    "        digits = '00' + str(num)\n",
    "    elif num < 100:\n",
    "        digits = '0' + str(num)\n",
    "        \n",
    "    return digits"
   ]
  },
  {
   "cell_type": "code",
   "execution_count": 7,
   "metadata": {},
   "outputs": [],
   "source": [
    "## Clean votes data\n",
    "\n",
    "def clean_votes(raw_df):\n",
    "    \n",
    "    clean_df = pd.DataFrame(columns=['name','coalition','party_code','votes','vote_share',\n",
    "                                    'parliament_code_digits','constituency'])\n",
    "    \n",
    "    for index, row in raw_df.iterrows():\n",
    "\n",
    "        ## Clean name column \n",
    "        ## e.g. Mordi Bimol (PH - DAP) \n",
    "        ## e.g. Hamdan Sani (PAS)\t\n",
    "        name_regex = re.compile(\n",
    "            r\"(?P<candidate>[a-zA-Z @]+\\S)\\s*(?:\\(\\s*(?P<coalition>[a-zA-Z' ]+\\S)\\s*-\\s*(?P<party>[a-zA-Z' ]+)\\s*\\)|\\(\\s*(?P<party_only>[a-zA-Z' ]+\\S)\\s*\\))\"\n",
    "        )\n",
    "        name_info = name_regex.search(row['name'])\n",
    "        name_groups = name_info.groupdict()\n",
    "\n",
    "        name = name_groups['candidate']\n",
    "        coalition = name_groups['coalition'] if name_groups['coalition'] != None else ''\n",
    "        party_code = name_groups['party'] if name_groups['party'] != None else name_groups['party_only']\n",
    "        \n",
    "        ## Clean votes column\n",
    "        ## e.g. 43.1% (12,771)\n",
    "        \n",
    "        vote_regex = re.compile(r\"(?P<vote_share>[\\d.]+)%\\s\\((?P<votes>[\\d,]+)\\)\")\n",
    "        vote_info = vote_regex.search(row['number_of_voters'])\n",
    "        vote_groups = vote_info.groupdict()\n",
    "        \n",
    "        vote_share = vote_groups['vote_share']\n",
    "        votes = int(''.join(vote_groups['votes'].split(',')))\n",
    "        \n",
    "        \n",
    "        ## Clean parliament/state code\n",
    "        ## e.g. P10, P201\n",
    "        \n",
    "        parliament_code_int = int(row['panel_code'].replace('P','').replace('N',''))\n",
    "        parliament_code_digits = make_3_digit(parliament_code_int)\n",
    "            \n",
    "        ## For state constituencies, need to append Parliament seat code to State seat code PXXX-NXXX\n",
    "        \n",
    "        if 'N' in row['panel_code']:\n",
    "            p_code_regex = re.compile(r\"\\(P(?P<p_code>[0-9]+)\\)\")\n",
    "            p_code_info = p_code_regex.search(row['panel_name'])\n",
    "            p_code_groups = p_code_info.groupdict()\n",
    "            #print(row['panel_name'])\n",
    "            parliament_p_code = p_code_groups['p_code']\n",
    "            parliament_p_code_int = int(parliament_p_code)\n",
    "            parliament_p_code_digits = make_3_digit(parliament_p_code_int)\n",
    "            parliament_code_digits = parliament_p_code_digits + '-' + parliament_code_digits\n",
    "            \n",
    "            \n",
    "        ## Clean consituency name\n",
    "        constituency = row['panel_name']\n",
    "        \n",
    "        ## Clean state\n",
    "        state = row['state_region']\n",
    "        \n",
    "        #print(votes)\n",
    "        \n",
    "        \n",
    "        new_row = {'name':name, 'coalition':coalition, 'party_code':party_code, \n",
    "                  'votes':votes, 'vote_share':vote_share, 'parliament_code_digits':parliament_code_digits,\n",
    "                  'constituency':constituency, 'state':state}\n",
    "        clean_df = clean_df.append(new_row, ignore_index=True)\n",
    "        \n",
    "\n",
    "    clean_df['votes'] = pd.to_numeric(clean_df['votes'])\n",
    "    \n",
    "    \n",
    "    ## Get winner and total votes for each constituency\n",
    "    \n",
    "    total_votes_list = clean_df.groupby([\"parliament_code_digits\"])[\"votes\"].sum().reset_index()\n",
    "    total_votes_list.rename(columns={'votes':'total_votes'},inplace=True)\n",
    "    \n",
    "    winner_list = clean_df.loc[clean_df.groupby('parliament_code_digits')['votes']\n",
    "                               .agg(lambda x: x.idxmax())][['parliament_code_digits','party_code']]\n",
    "    winner_list.rename(columns={'party_code':'winner'},inplace=True)\n",
    "    \n",
    "    clean_df_merged_with_winner = pd.merge(clean_df, winner_list, how=\"left\", on=[\"parliament_code_digits\"])\n",
    "    clean_df_merged_with_winner['winner'] = clean_df_merged_with_winner \\\n",
    "        .apply(lambda row : 1 if row['party_code'] == row['winner'] else 0, axis = 1)\n",
    "    \n",
    "    clean_df_merged_with_total = pd.merge(clean_df_merged_with_winner, total_votes_list, \n",
    "                                          how=\"left\", on=[\"parliament_code_digits\"])\n",
    "        \n",
    "        \n",
    "    return clean_df_merged_with_total"
   ]
  },
  {
   "cell_type": "code",
   "execution_count": 8,
   "metadata": {
    "scrolled": false
   },
   "outputs": [],
   "source": [
    "state_votes = clean_votes(append_all(state_result_paths))"
   ]
  },
  {
   "cell_type": "code",
   "execution_count": 9,
   "metadata": {
    "scrolled": false
   },
   "outputs": [],
   "source": [
    "parliament_votes = clean_votes(append_all(parliament_result_paths))"
   ]
  },
  {
   "cell_type": "code",
   "execution_count": 10,
   "metadata": {},
   "outputs": [],
   "source": [
    "state_votes.to_csv('data/cleaned/votes_'+str(election_year)+'_states.csv')"
   ]
  },
  {
   "cell_type": "code",
   "execution_count": 11,
   "metadata": {},
   "outputs": [],
   "source": [
    "parliament_votes.to_csv('data/cleaned/votes_'+str(election_year)+'_parliament.csv')"
   ]
  },
  {
   "cell_type": "code",
   "execution_count": null,
   "metadata": {},
   "outputs": [],
   "source": []
  }
 ],
 "metadata": {
  "kernelspec": {
   "display_name": "Python 3",
   "language": "python",
   "name": "python3"
  },
  "language_info": {
   "codemirror_mode": {
    "name": "ipython",
    "version": 3
   },
   "file_extension": ".py",
   "mimetype": "text/x-python",
   "name": "python",
   "nbconvert_exporter": "python",
   "pygments_lexer": "ipython3",
   "version": "3.8.1"
  }
 },
 "nbformat": 4,
 "nbformat_minor": 4
}
