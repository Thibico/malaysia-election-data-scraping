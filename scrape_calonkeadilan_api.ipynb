{
 "cells": [
  {
   "cell_type": "markdown",
   "metadata": {},
   "source": [
    "### Calonkeadilan API Scraping\n",
    "**List to Do**\n",
    "\n",
    "- [ ] Click dropdown to get option values\n",
    "- [ ] Scrape area names from dropdown \n",
    "- [ ] Call API by using area names (small letters)"
   ]
  },
  {
   "cell_type": "code",
   "execution_count": 17,
   "metadata": {},
   "outputs": [],
   "source": [
    "## import libraries\n",
    "import requests\n",
    "import json\n",
    "import re\n",
    "import pandas as pd\n",
    "from requests_html import HTMLSession\n",
    "from playwright.sync_api import Page"
   ]
  },
  {
   "cell_type": "code",
   "execution_count": 40,
   "metadata": {},
   "outputs": [
    {
     "name": "stdout",
     "output_type": "stream",
     "text": [
      "Calon Keadilan | Ini Calon Kita | Kita Boleh\n",
      "Done Click!\n",
      "<coroutine object Locator.text_content at 0x122d00dd0>\n"
     ]
    }
   ],
   "source": [
    "from playwright.async_api import async_playwright\n",
    "\n",
    "async with async_playwright() as p:\n",
    "    browser = await p.chromium.launch(headless=False, slow_mo=50)\n",
    "    page = await browser.new_page()\n",
    "    await page.goto(\"https://calonkeadilan.org/\")\n",
    "    print(await page.title())\n",
    "    # await page.get_by_role(\"button\").click()\n",
    "    await page.get_by_text(\"Negeri\").click()\n",
    "    print(\"Done Click!\")\n",
    "    dropdown_selector = \"role=listbox\"\n",
    "    await page.wait_for_selector(dropdown_selector)\n",
    "    found_item = page.locator(dropdown_selector).text_content()\n",
    "    print(found_item)\n",
    "    await browser.close()\n"
   ]
  },
  {
   "cell_type": "code",
   "execution_count": 24,
   "metadata": {},
   "outputs": [],
   "source": [
    "from playwright.sync_api import Page\n",
    "class TestHomePage:\n",
    "    main_url = \"https://calonkeadilan.org/\"\n",
    "    \n",
    "    def __init__(self, page: Page) -> None:\n",
    "        self.page = page\n",
    "    \n",
    "    def test_homepage(self):\n",
    "        self.page.goto(\"https://calonkeadilan.org/\")\n",
    "        self.page.get_by_role(\"button\").click()"
   ]
  },
  {
   "cell_type": "code",
   "execution_count": 25,
   "metadata": {},
   "outputs": [
    {
     "ename": "TypeError",
     "evalue": "TestHomePage.__init__() missing 1 required positional argument: 'page'",
     "output_type": "error",
     "traceback": [
      "\u001b[0;31m---------------------------------------------------------------------------\u001b[0m",
      "\u001b[0;31mTypeError\u001b[0m                                 Traceback (most recent call last)",
      "Cell \u001b[0;32mIn [25], line 1\u001b[0m\n\u001b[0;32m----> 1\u001b[0m hh \u001b[38;5;241m=\u001b[39m \u001b[43mTestHomePage\u001b[49m\u001b[43m(\u001b[49m\u001b[43m)\u001b[49m\n\u001b[1;32m      2\u001b[0m hh\u001b[38;5;241m.\u001b[39mtest_homepage()\n",
      "\u001b[0;31mTypeError\u001b[0m: TestHomePage.__init__() missing 1 required positional argument: 'page'"
     ]
    }
   ],
   "source": [
    "hh = TestHomePage()\n",
    "hh.test_homepage()"
   ]
  },
  {
   "cell_type": "code",
   "execution_count": 2,
   "metadata": {},
   "outputs": [
    {
     "name": "stdout",
     "output_type": "stream",
     "text": [
      "200\n"
     ]
    }
   ],
   "source": [
    "\n",
    "session = HTMLSession()\n",
    "r = session.get(main_url)\n",
    "print(r.status_code)"
   ]
  },
  {
   "cell_type": "code",
   "execution_count": 7,
   "metadata": {},
   "outputs": [
    {
     "name": "stdout",
     "output_type": "stream",
     "text": [
      "<HTML url='https://calonkeadilan.org/'>\n"
     ]
    }
   ],
   "source": [
    "from requests_html import AsyncHTMLSession\n",
    "asession = AsyncHTMLSession()\n",
    "async def get_main():\n",
    "    r = await asession.get(main_url)"
   ]
  },
  {
   "cell_type": "code",
   "execution_count": 6,
   "metadata": {},
   "outputs": [
    {
     "name": "stdout",
     "output_type": "stream",
     "text": [
      "None\n"
     ]
    }
   ],
   "source": [
    "dropdown = r.html.find(\"#menu-state\",first=True)\n",
    "print(dropdown)"
   ]
  }
 ],
 "metadata": {
  "interpreter": {
   "hash": "d28bb1bd1ce1077ff7173964964158d753f525bcf2f97fda0113d83669db9a2b"
  },
  "kernelspec": {
   "display_name": "Python 3.10.8 ('environment': venv)",
   "language": "python",
   "name": "python3"
  },
  "language_info": {
   "codemirror_mode": {
    "name": "ipython",
    "version": 3
   },
   "file_extension": ".py",
   "mimetype": "text/x-python",
   "name": "python",
   "nbconvert_exporter": "python",
   "pygments_lexer": "ipython3",
   "version": "3.10.8"
  },
  "orig_nbformat": 4
 },
 "nbformat": 4,
 "nbformat_minor": 2
}
