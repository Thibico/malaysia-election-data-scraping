{
 "cells": [
  {
   "cell_type": "code",
   "execution_count": null,
   "metadata": {},
   "outputs": [],
   "source": [
    "## Import required libraries\n",
    "import re\n",
    "import pandas as pd\n",
    "import requests\n",
    "import urllib\n",
    "import json\n",
    "from time import sleep"
   ]
  },
  {
   "cell_type": "code",
   "execution_count": null,
   "metadata": {},
   "outputs": [],
   "source": [
    "main_url = \"https://api.undi.info/\"\n",
    "seat_types = ['state','parliament']\n",
    "elections = ['ge11','ge12','ge13','ge14']\n",
    "\n",
    "data_write_path = \"data/raw/undi_dot_info/\""
   ]
  },
  {
   "cell_type": "code",
   "execution_count": null,
   "metadata": {},
   "outputs": [],
   "source": [
    "def write_json(data_dict,filename,data_write_path=data_write_path):\n",
    "    '''\n",
    "    Write JSON file into designated raw data folder.\n",
    "    '''\n",
    "    \n",
    "    # Serializing json\n",
    "    json_object = json.dumps(data_dict, indent=4)\n",
    "\n",
    "    # Writing to .json\n",
    "    with open(data_write_path + filename, \"w\") as outfile:\n",
    "        outfile.write(json_object)"
   ]
  },
  {
   "cell_type": "code",
   "execution_count": null,
   "metadata": {},
   "outputs": [],
   "source": [
    "def read_json(filename,data_write_path=data_write_path):\n",
    "    '''\n",
    "    Read JSON file from designated raw data folder\n",
    "    '''\n",
    "    \n",
    "    users = ''\n",
    "    with open(data_write_path + filename, \"r\") as f:\n",
    "        users = json.load(f)\n",
    "        \n",
    "    return users"
   ]
  },
  {
   "cell_type": "code",
   "execution_count": null,
   "metadata": {},
   "outputs": [],
   "source": [
    "def get_undi_api(endpoint,params):\n",
    "    '''\n",
    "    Get data from undi.info API\n",
    "    Params: endpoint and key value pairs of params\n",
    "    Returns: JSON of payload\n",
    "    '''\n",
    "    \n",
    "    url = main_url + endpoint + '?' + urllib.parse.urlencode(params)\n",
    "    \n",
    "    print(\"Requesting... \"+ url)\n",
    "    try:\n",
    "        r = requests.get(url, timeout=5)\n",
    "        print(\"Status: \"+ str(r.status_code))\n",
    "        return json.loads(r.text)\n",
    "    except:\n",
    "        print(\"Something went wrong\")\n",
    "    #sleep(2)\n",
    "    \n",
    "    return {}\n",
    "    "
   ]
  },
  {
   "cell_type": "markdown",
   "metadata": {},
   "source": [
    "## First we want to get all the codes for the States"
   ]
  },
  {
   "cell_type": "code",
   "execution_count": null,
   "metadata": {},
   "outputs": [],
   "source": [
    "def get_state_codes():\n",
    "    '''\n",
    "    Use party_summary end point to get all the keys and parse state codes from there\n",
    "    '''\n",
    "    \n",
    "    payload = get_undi_api('party_summary',{'ge': 'ge14', 'seat': 'state'})\n",
    "    \n",
    "    state_codes = [key[0:2].upper() for key in payload.keys()]\n",
    "    \n",
    "    return state_codes"
   ]
  },
  {
   "cell_type": "code",
   "execution_count": null,
   "metadata": {},
   "outputs": [],
   "source": [
    "state_codes = get_state_codes()\n",
    "state_codes"
   ]
  },
  {
   "cell_type": "markdown",
   "metadata": {},
   "source": [
    "## Next we want to get all the Seat Names for both state and parliament level"
   ]
  },
  {
   "cell_type": "code",
   "execution_count": null,
   "metadata": {},
   "outputs": [],
   "source": [
    "def get_seat_names(election,seat_type,state_codes = state_codes):\n",
    "    '''\n",
    "    Use listing end point to get all seat names with seat codes for a given seat type and election\n",
    "    '''\n",
    "    \n",
    "    seats = []\n",
    "    \n",
    "    attributes = ['pcode','scode','name']\n",
    "    \n",
    "    for state in state_codes:\n",
    "        payload = get_undi_api('listing',{'ge': election, 'seat': seat_type, 'negeri': state})\n",
    "        if 'seats' in payload:\n",
    "            for seat in payload['seats']:\n",
    "                my_seat = {}\n",
    "                for attribute in attributes:\n",
    "                    if attribute in seat.keys():\n",
    "                        my_seat[attribute] = seat[attribute]\n",
    "                    my_seat['state'] = state\n",
    "                seats.append(my_seat)\n",
    "            \n",
    "    return seats"
   ]
  },
  {
   "cell_type": "code",
   "execution_count": null,
   "metadata": {},
   "outputs": [],
   "source": [
    "def get_all_seats_for_all_elections(elections = elections,seat_types = seat_types):\n",
    "    '''\n",
    "    Get all the seats for all the elections and for both parliament and state\n",
    "    '''\n",
    "    \n",
    "    all_seats = {}\n",
    "    \n",
    "    for election in elections:\n",
    "        all_seats[election] = {}\n",
    "        for seat_type in seat_types:\n",
    "            seats_for_this_election_and_type = get_seat_names(election,seat_type)\n",
    "            all_seats[election][seat_type] = seats_for_this_election_and_type\n",
    "            sleep(2)\n",
    "            \n",
    "    return all_seats"
   ]
  },
  {
   "cell_type": "code",
   "execution_count": null,
   "metadata": {
    "scrolled": true
   },
   "outputs": [],
   "source": [
    "#all_seats = get_all_seats_for_all_elections()"
   ]
  },
  {
   "cell_type": "code",
   "execution_count": null,
   "metadata": {},
   "outputs": [],
   "source": [
    "#write_json(all_seats,\"all_seats.json\")"
   ]
  },
  {
   "cell_type": "code",
   "execution_count": null,
   "metadata": {},
   "outputs": [],
   "source": [
    "all_seats = read_json('all_seats.json')"
   ]
  },
  {
   "cell_type": "markdown",
   "metadata": {},
   "source": [
    "## Now we use the seat names data to build the params for the results API calls"
   ]
  },
  {
   "cell_type": "code",
   "execution_count": null,
   "metadata": {},
   "outputs": [],
   "source": [
    "def build_result_seat_param(seat_type,state,seat_name):\n",
    "    '''\n",
    "    Build string for result seat param of the form [state code].[seat type code].[seat name]\n",
    "    '''\n",
    "    \n",
    "    seat_type_code = 'p' if seat_type == 'parliament' else 'n'\n",
    "    \n",
    "    return state + '.' + seat_type_code + '.' + seat_name #.replace(' ','%20')"
   ]
  },
  {
   "cell_type": "code",
   "execution_count": null,
   "metadata": {},
   "outputs": [],
   "source": [
    "def prep_results_params(all_seats):\n",
    "    '''\n",
    "    Prep all the URL params needed for getting election results API calls\n",
    "    '''\n",
    "    \n",
    "    \n",
    "    params = {}\n",
    "    for seat_type in seat_types:\n",
    "        params[seat_type] = []\n",
    "        \n",
    "        seats_for_seat_type = []\n",
    "        for ge in all_seats:\n",
    "            for seat in all_seats[ge][seat_type]:\n",
    "                param = build_result_seat_param(seat_type,seat['state'],seat['name'])\n",
    "                if param not in params[seat_type]:\n",
    "                    params[seat_type].append(param)\n",
    "                \n",
    "    return params"
   ]
  },
  {
   "cell_type": "code",
   "execution_count": null,
   "metadata": {},
   "outputs": [],
   "source": [
    "results_params = prep_results_params(all_seats)"
   ]
  },
  {
   "cell_type": "code",
   "execution_count": null,
   "metadata": {},
   "outputs": [],
   "source": [
    "def get_results(results_params,seat_type):\n",
    "    '''\n",
    "    Make API calls to get all the seats in result_params for given seat_type\n",
    "    '''\n",
    "    \n",
    "    results = []\n",
    "    \n",
    "    for param in results_params[seat_type]:\n",
    "        print(param)\n",
    "        [state,seat_type_code,seat_name] = [s.replace('%20',' ') for s in param.split(\".\")]\n",
    "\n",
    "        results_from_api = get_undi_api('election',{'seat': param})\n",
    "\n",
    "        if bool(results_from_api):\n",
    "            results.append(results_from_api)\n",
    "            \n",
    "    return results"
   ]
  },
  {
   "cell_type": "code",
   "execution_count": null,
   "metadata": {
    "scrolled": true
   },
   "outputs": [],
   "source": [
    "results_parliament = get_results(results_params,'parliament')"
   ]
  },
  {
   "cell_type": "code",
   "execution_count": null,
   "metadata": {},
   "outputs": [],
   "source": [
    "write_json(results_parliament,\"results_parliament.json\")"
   ]
  },
  {
   "cell_type": "code",
   "execution_count": null,
   "metadata": {},
   "outputs": [],
   "source": [
    "results_states = get_results(results_params,'state')"
   ]
  },
  {
   "cell_type": "code",
   "execution_count": null,
   "metadata": {},
   "outputs": [],
   "source": [
    "write_json(results_states,\"results_states.json\")"
   ]
  },
  {
   "cell_type": "code",
   "execution_count": null,
   "metadata": {},
   "outputs": [],
   "source": []
  }
 ],
 "metadata": {
  "kernelspec": {
   "display_name": "Python 3.8.1 64-bit",
   "language": "python",
   "name": "python3"
  },
  "language_info": {
   "codemirror_mode": {
    "name": "ipython",
    "version": 3
   },
   "file_extension": ".py",
   "mimetype": "text/x-python",
   "name": "python",
   "nbconvert_exporter": "python",
   "pygments_lexer": "ipython3",
   "version": "3.8.1"
  },
  "vscode": {
   "interpreter": {
    "hash": "aee8b7b246df8f9039afb4144a1f6fd8d2ca17a180786b69acc140d282b71a49"
   }
  }
 },
 "nbformat": 4,
 "nbformat_minor": 4
}
