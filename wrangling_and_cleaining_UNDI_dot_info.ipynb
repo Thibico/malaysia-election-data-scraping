{
 "cells": [
  {
   "cell_type": "code",
   "execution_count": 1,
   "metadata": {},
   "outputs": [],
   "source": [
    "import pandas as pd\n",
    "import os\n",
    "import glob\n",
    "import re\n",
    "import json"
   ]
  },
  {
   "cell_type": "code",
   "execution_count": 2,
   "metadata": {},
   "outputs": [],
   "source": [
    "data_write_path = \"data/raw/undi_dot_info/\"\n",
    "\n",
    "year_keys = ['2004-GE','2008-GE','2013-GE','2018-GE']\n",
    "\n",
    "states_dict = {\n",
    "    'PL': 'Perlis',\n",
    "    'KD': 'Kedah',\n",
    "    'PN': 'Penang',\n",
    "    'PR': 'Perak',\n",
    "    'KE': 'Kelantan',\n",
    "    'TR': 'Terengganu',\n",
    "    'PH': 'Pahang',\n",
    "    'SL': 'Selangor',\n",
    "    'WP': 'FederalTerritories',\n",
    "    'NS': 'NegriSembilan',\n",
    "    'MK': 'Melaka',\n",
    "    'JH': 'Johor',\n",
    "    'SW': 'Sarawak',\n",
    "    'SB': 'Sabah'\n",
    "}"
   ]
  },
  {
   "cell_type": "markdown",
   "metadata": {},
   "source": [
    "## Utility functions"
   ]
  },
  {
   "cell_type": "code",
   "execution_count": 3,
   "metadata": {},
   "outputs": [],
   "source": [
    "def read_json(filename,data_write_path=data_write_path):\n",
    "    '''\n",
    "    Read JSON file from designated raw data folder\n",
    "    '''\n",
    "    \n",
    "    users = ''\n",
    "    with open(data_write_path + filename, \"r\") as f:\n",
    "        users = json.load(f)\n",
    "        \n",
    "    return users"
   ]
  },
  {
   "cell_type": "code",
   "execution_count": 4,
   "metadata": {},
   "outputs": [],
   "source": [
    "def make_3_digit(num):\n",
    "    '''\n",
    "    Make int into 3 digit string with 0s as prefix\n",
    "    '''\n",
    "    \n",
    "    digits = str(num)\n",
    "    if num < 10:\n",
    "        digits = '00' + str(num)\n",
    "    elif num < 100:\n",
    "        digits = '0' + str(num)\n",
    "        \n",
    "    return digits"
   ]
  },
  {
   "cell_type": "code",
   "execution_count": 5,
   "metadata": {},
   "outputs": [],
   "source": [
    "def clean_consituency_code(row):\n",
    "    '''\n",
    "    Clean the append Parliament seat code to State seat code to XXX or XXX-XXX respectively\n",
    "    '''\n",
    "    \n",
    "    ## Clean parliament/state code\n",
    "    ## e.g. P10, P201\n",
    "\n",
    "    parliament_code_int = int(row['ParliamentCode'].replace('P',''))\n",
    "    parliament_code_digits = make_3_digit(parliament_code_int)\n",
    "\n",
    "    ## For state constituencies, need to append Parliament seat code to State seat code PXXX-NXXX\n",
    "\n",
    "    if 'StateCode' in row:\n",
    "        state_code_int = int(row['StateCode'].replace('N',''))\n",
    "        state_code_digits = make_3_digit(state_code_int)\n",
    "                             \n",
    "        return parliament_code_digits + '-' + state_code_digits\n",
    "        \n",
    "    return parliament_code_digits"
   ]
  },
  {
   "cell_type": "markdown",
   "metadata": {},
   "source": [
    "## Wrangle data from JSON files"
   ]
  },
  {
   "cell_type": "code",
   "execution_count": 6,
   "metadata": {},
   "outputs": [],
   "source": [
    "def add_totals_for_results(results_df):\n",
    "    '''\n",
    "    Get winner and total votes for each constituency\n",
    "    '''\n",
    "    \n",
    "    total_votes_list = results_df.groupby([\"year\",\"parliament_code_digits\"])[\"Votes\"].sum().reset_index()\n",
    "    total_votes_list.rename(columns={'Votes':'total_votes'},inplace=True)\n",
    "    \n",
    "    winner_list = results_df.loc[results_df.groupby(['year','parliament_code_digits'])['Votes']\n",
    "                               .agg(lambda x: x.idxmax())][['year','parliament_code_digits','Party']]\n",
    "    winner_list.rename(columns={'Party':'winner'},inplace=True)\n",
    "    \n",
    "    results_df_merged_with_winner = pd.merge(results_df, winner_list, how=\"left\", on=[\"year\",\"parliament_code_digits\"])\n",
    "    results_df_merged_with_winner['winner'] = results_df_merged_with_winner \\\n",
    "        .apply(lambda row : 1 if row['Party'] == row['winner'] else 0, axis = 1)\n",
    "    \n",
    "    results_df_merged_with_total = pd.merge(results_df_merged_with_winner, total_votes_list, \n",
    "                                          how=\"left\", on=[\"year\",\"parliament_code_digits\"])\n",
    "    \n",
    "    results_df_merged_with_total['vote_share'] = results_df_merged_with_total \\\n",
    "         .apply(lambda row: 100*row['Votes']/row['total_votes'] if row['total_votes'] != 0 else 0,\n",
    "                axis = 1) \n",
    "    \n",
    "    return results_df_merged_with_total"
   ]
  },
  {
   "cell_type": "code",
   "execution_count": 7,
   "metadata": {},
   "outputs": [],
   "source": [
    "def json_data_to_df(json_filename):\n",
    "    '''\n",
    "    Read results JSON file and return raw dataframes for results and consitutency info\n",
    "    '''\n",
    "    \n",
    "    raw_data = read_json(json_filename)\n",
    "    \n",
    "    results_list = []\n",
    "    constituency_list = []\n",
    "    \n",
    "    for entry in raw_data:\n",
    "        for year_key in year_keys:\n",
    "            if year_key in entry:\n",
    "                \n",
    "                year = entry[year_key]['year']\n",
    "                state = states_dict[entry[year_key]['State']]\n",
    "                constituency = entry[year_key]['SeatName']\n",
    "                clean_c_code = clean_consituency_code(entry[year_key])\n",
    "                \n",
    "                # Parse results\n",
    "                results_for_consituency = entry[year_key]['candidates']\n",
    "                for result in results_for_consituency:\n",
    "                    result['year'] = year\n",
    "                    result['state'] = state\n",
    "                    result['constituency'] = constituency\n",
    "                    result['parliament_code_digits'] = clean_c_code\n",
    "                    \n",
    "                results_list = results_list + results_for_consituency\n",
    "                \n",
    "                \n",
    "                # Parse constituency info\n",
    "                info = {}\n",
    "                info['year'] = year\n",
    "                info['state'] = state\n",
    "                info['constituency'] = constituency\n",
    "                info['parliament_code_digits'] = clean_c_code\n",
    "                info = {**info, **entry[year_key]['info']}\n",
    "                \n",
    "                constituency_list.append(info)\n",
    "    \n",
    "    \n",
    "    \n",
    "    results_df = pd.DataFrame(results_list)\n",
    "    results_df.sort_values(by=['year', 'parliament_code_digits','Votes'],\n",
    "                           ascending=[True,True,False],\n",
    "                           inplace=True)\n",
    "    results_df.drop_duplicates(inplace=True)\n",
    "    results_df = add_totals_for_results(results_df)\n",
    "    results_df[['majority']] = results_df[['majority']].fillna(value=0)\n",
    "    results_df[['NameBallot']] = results_df[['NameBallot']].fillna(value=\"\")\n",
    "    results_df.rename(columns={\"Votes\":\"votes\",\"Name\":\"name\",\"Party\":\"party_code\"},inplace=True)\n",
    "    results_df.reset_index(drop=True,inplace=True)\n",
    "    \n",
    "    constituency_info_df = pd.DataFrame(constituency_list)\n",
    "    constituency_info_df.drop_duplicates(inplace=True)\n",
    "    constituency_info_df.sort_values(by=['year', 'parliament_code_digits'],inplace=True)\n",
    "    constituency_info_df.reset_index(drop=True,inplace=True)\n",
    "    \n",
    "    return results_df, constituency_info_df"
   ]
  },
  {
   "cell_type": "code",
   "execution_count": 8,
   "metadata": {},
   "outputs": [],
   "source": [
    "results_parliament_df, constituency_info_parliament_df = json_data_to_df('results_parliament.json')"
   ]
  },
  {
   "cell_type": "code",
   "execution_count": 9,
   "metadata": {},
   "outputs": [],
   "source": [
    "results_states_df, constituency_info_states_df = json_data_to_df('results_states.json')"
   ]
  },
  {
   "cell_type": "markdown",
   "metadata": {},
   "source": [
    "## Write results as CSVs"
   ]
  },
  {
   "cell_type": "code",
   "execution_count": 10,
   "metadata": {},
   "outputs": [],
   "source": [
    "results_parliament_df.to_csv('data/cleaned/undi_dot_info/results_parliament.csv')"
   ]
  },
  {
   "cell_type": "code",
   "execution_count": 11,
   "metadata": {},
   "outputs": [],
   "source": [
    "results_states_df.to_csv('data/cleaned/undi_dot_info/results_states.csv')"
   ]
  },
  {
   "cell_type": "code",
   "execution_count": 12,
   "metadata": {},
   "outputs": [],
   "source": [
    "constituency_info_parliament_df.to_csv('data/cleaned/undi_dot_info/constituency_info_parliament.csv')"
   ]
  },
  {
   "cell_type": "code",
   "execution_count": 13,
   "metadata": {},
   "outputs": [],
   "source": [
    "constituency_info_states_df.to_csv('data/cleaned/undi_dot_info/constituency_info_states.csv')"
   ]
  },
  {
   "cell_type": "code",
   "execution_count": null,
   "metadata": {},
   "outputs": [],
   "source": []
  }
 ],
 "metadata": {
  "kernelspec": {
   "display_name": "Python 3",
   "language": "python",
   "name": "python3"
  },
  "language_info": {
   "codemirror_mode": {
    "name": "ipython",
    "version": 3
   },
   "file_extension": ".py",
   "mimetype": "text/x-python",
   "name": "python",
   "nbconvert_exporter": "python",
   "pygments_lexer": "ipython3",
   "version": "3.8.1"
  }
 },
 "nbformat": 4,
 "nbformat_minor": 4
}
